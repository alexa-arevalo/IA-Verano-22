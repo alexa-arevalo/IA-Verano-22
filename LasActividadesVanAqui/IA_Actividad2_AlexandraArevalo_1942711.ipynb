{
  "nbformat": 4,
  "nbformat_minor": 0,
  "metadata": {
    "colab": {
      "name": "IA_Actividad2_AlexandraArevalo_1942711.ipynb",
      "provenance": []
    },
    "kernelspec": {
      "name": "python3",
      "display_name": "Python 3"
    },
    "language_info": {
      "name": "python"
    }
  },
  "cells": [
    {
      "cell_type": "markdown",
      "source": [
        "#**Actividad 2: Ejercicios en Python**\n",
        "\n",
        "  Nombre: Iran Alexandra Arevalo Rodriguez\n",
        "\n",
        "\n",
        "\n",
        "\n",
        "\n",
        "   Matricula: 1942711\n",
        "\n",
        "\n",
        "\n",
        "  \n",
        "   Hora: N3-N6"
      ],
      "metadata": {
        "id": "gCNTAp7uGbH_"
      }
    },
    {
      "cell_type": "markdown",
      "source": [
        "##Ejercicio 1\n",
        "Escribe un programa que le pida al usuario por su nombre y que lo salude con su nombre, excepto si se llama “Ana”, “Juan”, y “Pedro”."
      ],
      "metadata": {
        "id": "ipvJPo8OM5kl"
      }
    },
    {
      "cell_type": "code",
      "execution_count": null,
      "metadata": {
        "id": "9mbYBOUg3DIy",
        "colab": {
          "base_uri": "https://localhost:8080/"
        },
        "outputId": "18f3e42a-40c6-4782-d67b-7d1c87ad4e4d"
      },
      "outputs": [
        {
          "output_type": "stream",
          "name": "stdout",
          "text": [
            "Nombre: Ana\n",
            "Hola\n"
          ]
        }
      ],
      "source": [
        "names = [\"Ana\",\"Juan\",\"Pedro\"]\n",
        "name =input(\"Nombre: \")\n",
        "if name in names:\n",
        "  print(\"Hola\")\n",
        "else: print(\"Hola \"+ name)"
      ]
    },
    {
      "cell_type": "markdown",
      "source": [
        "##Ejercicio 2\n",
        "Escribe una función que regrese el último elemento de una lista y que revierta el orden de la lista e imprima la lista revertida."
      ],
      "metadata": {
        "id": "K_2XqRjZNEOf"
      }
    },
    {
      "cell_type": "code",
      "source": [
        "paises = [\"Mexico\",\"Holanda\",\"Japon\",\"Suiza\"]\n",
        "print(paises[-1])\n",
        "paises.reverse()\n",
        "print(paises)"
      ],
      "metadata": {
        "colab": {
          "base_uri": "https://localhost:8080/"
        },
        "id": "tTWyrMHYNMX3",
        "outputId": "525f0503-8e14-49e5-bbb0-8c96f2c62a1d"
      },
      "execution_count": null,
      "outputs": [
        {
          "output_type": "stream",
          "name": "stdout",
          "text": [
            "Suiza\n",
            "['Suiza', 'Japon', 'Holanda', 'Mexico']\n"
          ]
        }
      ]
    },
    {
      "cell_type": "markdown",
      "source": [
        "##Ejercicio 3\n",
        "Escribe una función que toma una lista de strings y los imprima línea por línea en un marco rectangular.\n"
      ],
      "metadata": {
        "id": "wt6WFtldNMx6"
      }
    },
    {
      "cell_type": "code",
      "source": [
        "frase = [\"Hola \",\"soy  \",\"alexa\"]\n",
        "print(\"**********\")\n",
        "for x in frase:\n",
        "    print(\"*  \"+x+\" * \")\n",
        "print(\"**********\")\n",
        "\n"
      ],
      "metadata": {
        "colab": {
          "base_uri": "https://localhost:8080/"
        },
        "id": "REuz9mRmZ4hu",
        "outputId": "c98c5ed2-25cb-408a-d80a-f6fcbd74c4c7"
      },
      "execution_count": 7,
      "outputs": [
        {
          "output_type": "stream",
          "name": "stdout",
          "text": [
            "**********\n",
            "*  Hola  * \n",
            "*  soy   * \n",
            "*  alexa * \n",
            "**********\n"
          ]
        }
      ]
    }
  ]
}
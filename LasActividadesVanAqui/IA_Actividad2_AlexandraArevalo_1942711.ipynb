{
  "nbformat": 4,
  "nbformat_minor": 0,
  "metadata": {
    "colab": {
      "name": "IA_Actividad2_AlexandraArevalo_1942711.ipynb",
      "provenance": []
    },
    "kernelspec": {
      "name": "python3",
      "display_name": "Python 3"
    },
    "language_info": {
      "name": "python"
    }
  },
  "cells": [
    {
      "cell_type": "markdown",
      "source": [
        "#**Actividad 2: Ejercicios en Python**\n",
        "\n",
        "  Nombre: Iran Alexandra Arevalo Rodriguez\n",
        "\n",
        "\n",
        "\n",
        "\n",
        "\n",
        "   Matricula: 1942711\n",
        "\n",
        "\n",
        "\n",
        "  \n",
        "   Hora: N3-N6"
      ],
      "metadata": {
        "id": "gCNTAp7uGbH_"
      }
    },
    {
      "cell_type": "markdown",
      "source": [
        "##Ejercicio 1\n",
        "Escribe un programa que le pida al usuario por su nombre y que lo salude con su nombre, excepto si se llama “Ana”, “Juan”, y “Pedro”."
      ],
      "metadata": {
        "id": "ipvJPo8OM5kl"
      }
    },
    {
      "cell_type": "code",
      "execution_count": 23,
      "metadata": {
        "id": "9mbYBOUg3DIy",
        "colab": {
          "base_uri": "https://localhost:8080/"
        },
        "outputId": "4cc6fb8a-0c3d-4854-fa7f-05233fda7ae5"
      },
      "outputs": [
        {
          "output_type": "stream",
          "name": "stdout",
          "text": [
            "Nombre: Alexa\n",
            "Hola Alexa\n"
          ]
        }
      ],
      "source": [
        "names = [\"Ana\",\"Juan\",\"Pedro\"] #definir lista de nombres que se excluiran\n",
        "name =input(\"Nombre: \")  #definir la variable del nombre con el input del usuario\n",
        "if name in names: #comparar el nombre recibido con la lista que se tiene\n",
        "  print(\"Syntax error \") #si se encuentra en lista no se saluda\n",
        "else: print(\"Hola \"+ name) #si no se encuentra en lista se saluda"
      ]
    },
    {
      "cell_type": "markdown",
      "source": [
        "##Ejercicio 2\n",
        "Escribe una función que regrese el último elemento de una lista y que revierta el orden de la lista e imprima la lista revertida."
      ],
      "metadata": {
        "id": "K_2XqRjZNEOf"
      }
    },
    {
      "cell_type": "code",
      "source": [
        "def my_function(paises): #definiendo la funcion\n",
        "  print(paises[-1]) #imprimiendo el ultimo elemento de la lista\n",
        "  paises.reverse()  #utilizando la funcion reverse para reordenar la lista\n",
        "  print(paises)    \n",
        "\n",
        "paises = [\"Mexico\", \"Holanda\", \"Japon\"] #definiendo la lista\n",
        "my_function(paises) #llamando la funcion"
      ],
      "metadata": {
        "colab": {
          "base_uri": "https://localhost:8080/"
        },
        "id": "tTWyrMHYNMX3",
        "outputId": "d9f88d05-ef4a-4b57-c5cc-04ed75f7a097"
      },
      "execution_count": null,
      "outputs": [
        {
          "output_type": "stream",
          "name": "stdout",
          "text": [
            "Japon\n",
            "['Japon', 'Holanda', 'Mexico']\n"
          ]
        }
      ]
    },
    {
      "cell_type": "markdown",
      "source": [
        "##Ejercicio 3\n",
        "Escribe una función que toma una lista de strings y los imprima línea por línea en un marco rectangular.\n"
      ],
      "metadata": {
        "id": "wt6WFtldNMx6"
      }
    },
    {
      "cell_type": "code",
      "source": [
        "def my_function(): #definiendo funcion\n",
        "  frase = [\"Hola \",\"soy  \",\"Iran \"] #lista de strings a separar\n",
        "  print(\"**********\") \n",
        "  for x in frase: # creacion del un loop para leer cada caracter de la lista dada\n",
        "    print(\"*  \"+x+\" * \") #impresion de la lista \n",
        "  print(\"**********\")\n",
        "\n",
        "my_function() #llamando la funcion"
      ],
      "metadata": {
        "colab": {
          "base_uri": "https://localhost:8080/"
        },
        "id": "REuz9mRmZ4hu",
        "outputId": "0d15f616-958b-4201-cdf3-4eaf77459c24"
      },
      "execution_count": null,
      "outputs": [
        {
          "output_type": "stream",
          "name": "stdout",
          "text": [
            "**********\n",
            "*  Hola  * \n",
            "*  soy   * \n",
            "*  Iran  * \n",
            "**********\n"
          ]
        }
      ]
    }
  ]
}